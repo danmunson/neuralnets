{
 "cells": [
  {
   "cell_type": "code",
   "execution_count": 1,
   "id": "e68ec251",
   "metadata": {},
   "outputs": [],
   "source": [
    "import jax"
   ]
  },
  {
   "cell_type": "code",
   "execution_count": 2,
   "id": "8a10f4bb",
   "metadata": {},
   "outputs": [],
   "source": [
    "import numpy as np\n",
    "import jax.numpy as jnp\n",
    "from jax import random"
   ]
  },
  {
   "cell_type": "code",
   "execution_count": 6,
   "id": "09c25257",
   "metadata": {},
   "outputs": [],
   "source": [
    "dims = (15000, 15000)\n",
    "\n",
    "def jax_raise_random_to_power(n):\n",
    "    matrix = random.normal(random.PRNGKey(0), dims)\n",
    "    jax.device_put(matrix)\n",
    "    for i in range(n-1):\n",
    "        matrix = jnp.dot(matrix, matrix)\n",
    "    return matrix.block_until_ready()\n",
    "\n",
    "def np_raise_random_to_power(n):\n",
    "    matrix = random.normal(random.PRNGKey(0), dims)\n",
    "    matrix = np.asarray(matrix)\n",
    "    for i in range(n-1):\n",
    "        matrix = np.dot(matrix, matrix)\n",
    "    return matrix"
   ]
  },
  {
   "cell_type": "code",
   "execution_count": 8,
   "id": "0a4918ac",
   "metadata": {},
   "outputs": [
    {
     "name": "stdout",
     "output_type": "stream",
     "text": [
      "CPU times: user 6.62 ms, sys: 24 ms, total: 30.6 ms\n",
      "Wall time: 2.22 s\n"
     ]
    },
    {
     "data": {
      "text/plain": [
       "Array([[-3.44836346e+31,  2.42456190e+31,  1.09931469e+31, ...,\n",
       "        -4.74509574e+31,  1.87661349e+31,  2.80725970e+31],\n",
       "       [-2.17017393e+31,  5.81911910e+30, -2.82345882e+31, ...,\n",
       "         1.64935877e+31, -3.11280942e+31,  3.47848850e+30],\n",
       "       [-3.17480990e+31, -2.01398978e+31,  9.12751506e+30, ...,\n",
       "         1.26815388e+31,  6.97721503e+30, -6.60733269e+29],\n",
       "       ...,\n",
       "       [ 2.89065503e+31,  2.40937925e+31,  6.02446905e+30, ...,\n",
       "         8.37971042e+30, -5.84394862e+30,  2.20225012e+31],\n",
       "       [ 1.19755746e+30, -1.68081103e+31,  2.90124933e+31, ...,\n",
       "         8.82043763e+29, -2.26268746e+31, -1.48451473e+31],\n",
       "       [ 2.79858010e+31,  1.12208142e+31,  1.54133282e+30, ...,\n",
       "         4.88697080e+30, -1.99746129e+30,  1.36222632e+31]],      dtype=float32)"
      ]
     },
     "execution_count": 8,
     "metadata": {},
     "output_type": "execute_result"
    }
   ],
   "source": [
    "%time jax_raise_random_to_power(5)"
   ]
  },
  {
   "cell_type": "code",
   "execution_count": 9,
   "id": "608d7f8d",
   "metadata": {},
   "outputs": [
    {
     "name": "stdout",
     "output_type": "stream",
     "text": [
      "CPU times: user 2min 25s, sys: 832 ms, total: 2min 26s\n",
      "Wall time: 15.3 s\n"
     ]
    },
    {
     "data": {
      "text/plain": [
       "array([[-3.4483444e+31,  2.4245617e+31,  1.0992999e+31, ...,\n",
       "        -4.7451069e+31,  1.8765957e+31,  2.8072452e+31],\n",
       "       [-2.1701983e+31,  5.8190889e+30, -2.8234617e+31, ...,\n",
       "         1.6493538e+31, -3.1128155e+31,  3.4782800e+30],\n",
       "       [-3.1748026e+31, -2.0139880e+31,  9.1273144e+30, ...,\n",
       "         1.2681501e+31,  6.9774193e+30, -6.6083656e+29],\n",
       "       ...,\n",
       "       [ 2.8906594e+31,  2.4093512e+31,  6.0245331e+30, ...,\n",
       "         8.3796639e+30, -5.8439722e+30,  2.2022433e+31],\n",
       "       [ 1.1975104e+30, -1.6808024e+31,  2.9012701e+31, ...,\n",
       "         8.8187474e+29, -2.2627034e+31, -1.4845019e+31],\n",
       "       [ 2.7985951e+31,  1.1220831e+31,  1.5414489e+30, ...,\n",
       "         4.8871304e+30, -1.9973501e+30,  1.3621861e+31]], dtype=float32)"
      ]
     },
     "execution_count": 9,
     "metadata": {},
     "output_type": "execute_result"
    }
   ],
   "source": [
    "%time np_raise_random_to_power(5)"
   ]
  },
  {
   "cell_type": "code",
   "execution_count": 20,
   "id": "237a7df7",
   "metadata": {},
   "outputs": [
    {
     "name": "stdout",
     "output_type": "stream",
     "text": [
      "CPU times: user 3.73 ms, sys: 12.2 ms, total: 15.9 ms\n",
      "Wall time: 12.9 ms\n"
     ]
    },
    {
     "data": {
      "text/plain": [
       "Array([[255.01978, 246.64871, 254.13368, ..., 233.67955, 247.6894 ,\n",
       "        238.36868],\n",
       "       [262.66006, 253.28917, 259.1826 , ..., 239.03181, 253.16742,\n",
       "        249.44127],\n",
       "       [259.38907, 252.72758, 258.23053, ..., 237.8357 , 252.41087,\n",
       "        246.62466],\n",
       "       ...,\n",
       "       [256.15817, 250.09192, 254.72185, ..., 239.23868, 247.7267 ,\n",
       "        244.16634],\n",
       "       [268.2266 , 258.91202, 262.33414, ..., 245.26648, 259.05392,\n",
       "        258.33707],\n",
       "       [254.16147, 251.75418, 256.08313, ..., 238.59848, 245.62584,\n",
       "        240.22353]], dtype=float32)"
      ]
     },
     "execution_count": 20,
     "metadata": {},
     "output_type": "execute_result"
    }
   ],
   "source": []
  },
  {
   "cell_type": "code",
   "execution_count": 12,
   "id": "a5c9cff6",
   "metadata": {},
   "outputs": [
    {
     "data": {
      "text/plain": [
       "Array([2., 3., 4.], dtype=float32)"
      ]
     },
     "execution_count": 12,
     "metadata": {},
     "output_type": "execute_result"
    }
   ],
   "source": [
    "arr = jnp.asarray([[1.,2.,3.],[2.,3.,4.],[3.,4.,5.]])\n",
    "jnp.average(arr, 0)"
   ]
  },
  {
   "cell_type": "code",
   "execution_count": 13,
   "id": "94d06901",
   "metadata": {},
   "outputs": [
    {
     "data": {
      "text/plain": [
       "[97, 69, 36, 56, 70, 81, 57, 82, 75, 92]"
      ]
     },
     "execution_count": 13,
     "metadata": {},
     "output_type": "execute_result"
    }
   ],
   "source": [
    "from random import sample\n",
    "sample(list(range(100)), 10)"
   ]
  },
  {
   "cell_type": "code",
   "execution_count": null,
   "id": "3a1f9d56",
   "metadata": {},
   "outputs": [],
   "source": []
  }
 ],
 "metadata": {
  "kernelspec": {
   "display_name": "nns",
   "language": "python",
   "name": "nns"
  },
  "language_info": {
   "codemirror_mode": {
    "name": "ipython",
    "version": 3
   },
   "file_extension": ".py",
   "mimetype": "text/x-python",
   "name": "python",
   "nbconvert_exporter": "python",
   "pygments_lexer": "ipython3",
   "version": "3.10.9"
  }
 },
 "nbformat": 4,
 "nbformat_minor": 5
}
